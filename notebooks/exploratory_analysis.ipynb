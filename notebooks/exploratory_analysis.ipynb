{
  "nbformat": 4,
  "nbformat_minor": 0,
  "metadata": {
    "colab": {
      "provenance": [],
      "authorship_tag": "ABX9TyNNY/gXDE98dZZT4tkgEUln",
      "include_colab_link": true
    },
    "kernelspec": {
      "name": "python3",
      "display_name": "Python 3"
    },
    "language_info": {
      "name": "python"
    }
  },
  "cells": [
    {
      "cell_type": "markdown",
      "metadata": {
        "id": "view-in-github",
        "colab_type": "text"
      },
      "source": [
        "<a href=\"https://colab.research.google.com/github/OgShwang/gpt-project/blob/main/notebooks/exploratory_analysis.ipynb\" target=\"_parent\"><img src=\"https://colab.research.google.com/assets/colab-badge.svg\" alt=\"Open In Colab\"/></a>"
      ]
    },
    {
      "cell_type": "code",
      "execution_count": null,
      "metadata": {
        "id": "O2LiA0_ridDS"
      },
      "outputs": [],
      "source": [
        "# exploratory_analysis.ipynb\n",
        "\n",
        "import pandas as pd\n",
        "import matplotlib.pyplot as plt\n",
        "import seaborn as sns\n",
        "\n",
        "# Load the dataset\n",
        "df = pd.read_csv('data/dataset.csv')\n",
        "\n",
        "# Show the first few rows\n",
        "df.head()\n",
        "\n",
        "# Check for missing values\n",
        "df.isnull().sum()\n",
        "\n",
        "# Visualize the distribution of the target variable\n",
        "sns.countplot(x='target_column', data=df)  # Replace 'target_column' with your actual target column\n",
        "plt.show()\n",
        "\n",
        "# Example of feature distribution\n",
        "sns.histplot(df['feature_column'])  # Replace 'feature_column' with an actual feature\n",
        "plt.show()"
      ]
    }
  ]
}