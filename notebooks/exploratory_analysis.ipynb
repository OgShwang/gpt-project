# exploratory_analysis.ipynb

import pandas as pd
import matplotlib.pyplot as plt
import seaborn as sns

# Load the dataset
df = pd.read_csv('data/dataset.csv')

# Show the first few rows
df.head()

# Check for missing values
df.isnull().sum()

# Visualize the distribution of the target variable
sns.countplot(x='target_column', data=df)  # Replace 'target_column' with your actual target column
plt.show()

# Example of feature distribution
sns.histplot(df['feature_column'])  # Replace 'feature_column' with an actual feature
plt.show()
